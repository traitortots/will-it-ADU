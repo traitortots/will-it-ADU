{
 "cells": [
  {
   "cell_type": "code",
   "execution_count": 2,
   "metadata": {},
   "outputs": [],
   "source": [
    "import geopandas as gpd\n",
    "import shapely as shp"
   ]
  },
  {
   "cell_type": "markdown",
   "metadata": {},
   "source": [
    "# Import Parcels"
   ]
  },
  {
   "cell_type": "code",
   "execution_count": null,
   "metadata": {},
   "outputs": [],
   "source": [
    "# read in the parcel data as a geodataframe\n",
    "gdf_ithaca_parcel = gpd.read_file('')\n",
    "gdf_newhaven_parcel = gpd.read_file('')"
   ]
  },
  {
   "cell_type": "markdown",
   "metadata": {},
   "source": [
    "# Import Building Footprints"
   ]
  },
  {
   "cell_type": "code",
   "execution_count": null,
   "metadata": {},
   "outputs": [],
   "source": [
    "gdf_ithaca_building = gpd.read_file('')\n",
    "gdf_newhaven_building = gpd.read_file('')"
   ]
  },
  {
   "cell_type": "markdown",
   "metadata": {},
   "source": [
    "# Intersect Parcels with Footprints\n",
    "- recalculate area of each parcel"
   ]
  },
  {
   "cell_type": "code",
   "execution_count": null,
   "metadata": {},
   "outputs": [],
   "source": []
  },
  {
   "cell_type": "markdown",
   "metadata": {},
   "source": [
    "# Find Pole of Inaccessibility for each parcel"
   ]
  },
  {
   "cell_type": "code",
   "execution_count": null,
   "metadata": {},
   "outputs": [],
   "source": []
  },
  {
   "cell_type": "markdown",
   "metadata": {},
   "source": [
    "# Construct hypothetical ADU polygon"
   ]
  },
  {
   "cell_type": "code",
   "execution_count": null,
   "metadata": {},
   "outputs": [],
   "source": []
  },
  {
   "cell_type": "markdown",
   "metadata": {},
   "source": [
    "# Test whether ADU would fit in each parcel (for loop)\n",
    "- Check if square footage of parcel is bigger than hypothetical polygon. if parcel is not big enough, flag and exit\n",
    "- If parcel is big enough, center hypothetical ADU on parcel's pole of inaccessibility, check if hypothetical ADU is `shapely.within` the parcel. If it is, flag and exit\n",
    "- If hypothetical ADU is not within parcel, use `shapely.affinity.rotate` to rotate 10-20 degrees, recheck if hypothetical ADU is `shapely.within`. If not, keep rotating until fit is found or a 360 degree rotation has occurred. either way, flag appropriately and exit"
   ]
  },
  {
   "cell_type": "code",
   "execution_count": null,
   "metadata": {},
   "outputs": [],
   "source": []
  },
  {
   "cell_type": "markdown",
   "metadata": {},
   "source": [
    "# Export final geodataframe to geoJSON for web map"
   ]
  },
  {
   "cell_type": "code",
   "execution_count": null,
   "metadata": {},
   "outputs": [],
   "source": [
    "# export geodataframe to geojson\n",
    "gdf.to_file(\"data.geojson\", driver=\"GeoJSON\")"
   ]
  }
 ],
 "metadata": {
  "kernelspec": {
   "display_name": "willitADU",
   "language": "python",
   "name": "willitadu"
  },
  "language_info": {
   "codemirror_mode": {
    "name": "ipython",
    "version": 3
   },
   "file_extension": ".py",
   "mimetype": "text/x-python",
   "name": "python",
   "nbconvert_exporter": "python",
   "pygments_lexer": "ipython3",
   "version": "3.9.7"
  },
  "orig_nbformat": 4
 },
 "nbformat": 4,
 "nbformat_minor": 2
}
