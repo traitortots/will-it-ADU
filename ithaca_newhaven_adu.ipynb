version https://git-lfs.github.com/spec/v1
oid sha256:88673932668582acc0054c84034127bd26db5ba06ef980e94d369c69aa6eb3fe
size 45337
