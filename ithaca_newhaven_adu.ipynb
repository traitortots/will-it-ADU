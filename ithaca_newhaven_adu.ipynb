version https://git-lfs.github.com/spec/v1
oid sha256:a9c425a7696a30a951955421e56e7a53392adc8c0afb0c0c68b417f4303a4a9b
size 112220825
