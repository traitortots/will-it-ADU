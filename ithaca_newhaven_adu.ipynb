version https://git-lfs.github.com/spec/v1
oid sha256:e4e89b12d5a245c88ea53696542d5bd7753ff200af8cbaa29b1cd4a366e5dc2a
size 66234
