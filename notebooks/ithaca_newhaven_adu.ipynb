version https://git-lfs.github.com/spec/v1
oid sha256:f6b6374948160d5d308f9a991577ed4d0d8618c2cc0a87d19f39ae34a73fd540
size 112220958
